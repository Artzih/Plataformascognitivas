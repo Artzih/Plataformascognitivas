{
  "nbformat": 4,
  "nbformat_minor": 0,
  "metadata": {
    "colab": {
      "private_outputs": true,
      "provenance": []
    },
    "kernelspec": {
      "name": "python3",
      "display_name": "Python 3"
    },
    "language_info": {
      "name": "python"
    }
  },
  "cells": [
    {
      "cell_type": "markdown",
      "source": [
        "Arthur Kazuo Benicio Kamigashima RA: 23011408"
      ],
      "metadata": {
        "id": "5raJSb36Y6LN"
      }
    },
    {
      "cell_type": "code",
      "execution_count": null,
      "metadata": {
        "id": "fLzWhR2lI92y"
      },
      "outputs": [],
      "source": [
        "import requests"
      ]
    },
    {
      "cell_type": "code",
      "source": [
        "print(\"\"\"Olá, digite o ultimo digito da sua RA, Caso seu robo tenha mais que uma camera você podera escolher qual camera utilizar segue elas a baixo:\n",
        "   1 - FHAZ\n",
        "   2 - RHAZ\n",
        "   3 - MAST\n",
        "   4 - CHEMCAM\n",
        "   5 - MAHLI\n",
        "   6 - MARDI\n",
        "   7 - NAVCAM\n",
        "   8 - PANCAM\n",
        "   9 e 0 - MINITES\"\"\")"
      ],
      "metadata": {
        "id": "CheTX9kmQuR3"
      },
      "execution_count": null,
      "outputs": []
    },
    {
      "cell_type": "code",
      "source": [
        "ultimo_digito = int(input(\"Digite o ultimo digito do seu Ra: \"))\n",
        "print(ultimo_digito)"
      ],
      "metadata": {
        "id": "UnI96EivJUIj"
      },
      "execution_count": null,
      "outputs": []
    },
    {
      "cell_type": "code",
      "source": [
        "key = \"RJJQR3msvZ5MmdTFt2JhYZ6kdZG9DNmIRIjPs6vf\""
      ],
      "metadata": {
        "id": "y0wJKG1uK0OV"
      },
      "execution_count": null,
      "outputs": []
    },
    {
      "cell_type": "code",
      "source": [
        "if ultimo_digito == 1:\n",
        "  camera = 'FHAZ'\n",
        "  print(camera)\n",
        "if ultimo_digito == 2:\n",
        "  camera = 'RHAZ'\n",
        "  print(camera)\n",
        "if ultimo_digito == 3:\n",
        "  camera = 'MAST'\n",
        "  print(camera)\n",
        "if ultimo_digito == 4:\n",
        "  camera = 'CHEMCAM'\n",
        "  print(camera)\n",
        "if ultimo_digito == 5:\n",
        "  camera = 'MAHLI'\n",
        "  print(camera)\n",
        "if ultimo_digito == 6:\n",
        "  camera = 'MARDI'\n",
        "  print(camera)\n",
        "if ultimo_digito == 7:\n",
        "  camera = 'NAVCAM'\n",
        "  print(camera)\n",
        "if ultimo_digito == 8:\n",
        "  camera = 'PANCAM'\n",
        "  print(camera)\n",
        "if ultimo_digito == 9 or ultimo_digito == 0:\n",
        "  camera = 'MINITES'\n",
        "  print(camera)"
      ],
      "metadata": {
        "id": "VYY93lc9PhHf"
      },
      "execution_count": null,
      "outputs": []
    },
    {
      "cell_type": "code",
      "source": [
        "resposta = requests.get(f\"https://api.nasa.gov/mars-photos/api/v1/rovers/Spirit/photos?sol=100&camera={camera}&api_key={key}\")\n",
        "print(resposta)\n",
        "resposta.json()"
      ],
      "metadata": {
        "id": "3WZXA3pEK8yd"
      },
      "execution_count": null,
      "outputs": []
    }
  ]
}